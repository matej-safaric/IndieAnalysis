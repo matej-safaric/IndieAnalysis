{
 "cells": [
  {
   "attachments": {},
   "cell_type": "markdown",
   "metadata": {},
   "source": [
    "## Analiza podatkov\n"
   ]
  },
  {
   "attachments": {},
   "cell_type": "markdown",
   "metadata": {},
   "source": [
    "V tej raziskavi analiziramo podatke s spletne trgovine za video igre Steam. Hipoteze, ki jih obravnavamo so:\n",
    "- S časom se popularnost posameznih žanrov iger spreminja, v vsakem letu lahko določimo najbolj popularne \n",
    "- S časom povprečna cena izdelka narašča\n",
    "- S časom je proporcionalno vedno več brezplačnih iger v primerjavi s številom vseh iger na trgu\n",
    "- Veliko večino vseh izdelkov na Steam-u predstavljajo video igre, cenejše od 10€\n",
    "- Kvaliteta izdelka ter število igralcev sta neposredno povezana s ceno izdelka\n",
    "\n",
    "Najprej uvozimo datoteki igre.csv ter znacke.csv"
   ]
  },
  {
   "cell_type": "code",
   "execution_count": null,
   "metadata": {},
   "outputs": [],
   "source": [
    "import pandas as pd \n",
    "\n",
    "igre = pd.read_csv(\"../../PROG1/IndieAnalysis/igre.csv\")\n",
    "znacke = pd.read_csv(\"../../PROG1/IndieAnalysis/znacke.csv\")"
   ]
  },
  {
   "cell_type": "code",
   "execution_count": null,
   "metadata": {},
   "outputs": [],
   "source": [
    "igre"
   ]
  },
  {
   "cell_type": "code",
   "execution_count": null,
   "metadata": {},
   "outputs": [],
   "source": [
    "znacke"
   ]
  },
  {
   "attachments": {},
   "cell_type": "markdown",
   "metadata": {},
   "source": [
    "#### Popularnost različnih žanrov\n",
    "Radi bi ugotovili kako se s časom spreminja popularnost različnih žanrov. Le-teh je precej veliko,\n",
    "zato si oglejmo le najbolj popularne:\n",
    "\n",
    "Prvi korak je, da združimo tabeli z znackami ter igrami glede na ID stevilko"
   ]
  },
  {
   "cell_type": "code",
   "execution_count": null,
   "metadata": {},
   "outputs": [],
   "source": [
    "skupna_tabela = pd.merge(igre, znacke, left_on='id', right_on='id')\n",
    "skupna_tabela"
   ]
  },
  {
   "attachments": {},
   "cell_type": "markdown",
   "metadata": {},
   "source": [
    "Spodaj vidimo 20 najbolj popularnih značk in pri vsaki število z njimi označenih iger:"
   ]
  },
  {
   "cell_type": "code",
   "execution_count": null,
   "metadata": {},
   "outputs": [],
   "source": [
    "tag_popularity = skupna_tabela.groupby('tag').size().sort_values(ascending=False).head(20)\n",
    "tag_popularity\n",
    "\n",
    "# Seznam 20 najbolj popularnih značk\n",
    "top_tags = tag_popularity.keys().to_list() \n"
   ]
  },
  {
   "cell_type": "code",
   "execution_count": null,
   "metadata": {},
   "outputs": [],
   "source": [
    "import matplotlib as mpl    \n",
    "def plot_tag_over_time(tag: str):\n",
    "    '''Sprejme značko (naj bo ena izmed 20 zgoraj) in nariše graf \n",
    "    popularnosti značke v odvisnosti od časa'''\n",
    "    temp = skupna_tabela[skupna_tabela.tag == tag]\n",
    "    temp[temp['year'] >= 2010].groupby('year').size().plot()\n",
    "\n",
    "for tag in top_tags[:10]:\n",
    "    # V grafu je lahko največ 10 barv, zato bomo narisali dva grafa\n",
    "    plot_tag_over_time(tag)\n",
    "mpl.pyplot.legend(top_tags[:10], prop={'size' : 7}, loc='upper left')"
   ]
  },
  {
   "cell_type": "code",
   "execution_count": null,
   "metadata": {},
   "outputs": [],
   "source": [
    "for tag in top_tags[10:]:\n",
    "    plot_tag_over_time(tag)\n",
    "mpl.pyplot.legend(top_tags[10:], prop={'size' : 7}, loc='upper left')"
   ]
  },
  {
   "attachments": {},
   "cell_type": "markdown",
   "metadata": {},
   "source": [
    "Opazimo torej, da so vse značke doživele približno enako rast skozi čas, z izjemo žanra samostojno proizvedenih iger oz. Indie iger, ki so približno enakomerno zastopane v zadnjih sedmih letih.\n",
    "Video igre so namreč šele v zadnjih nekaj letih postale večja industrija, medtem ko so jih pred tem večinoma ustvarjali manjši samostojni studii.\n",
    "**Največjo rast** so v zadnjih letih doživele igre za enega igralca (oz. Singleplayer igre), kar je samo po sebi umevno, namreč ustvarjanje video iger, ki so namenjene večim igralcem je težje in dražje zaradi vzdrževanja strežnikov, ter potrebe po ohranjanju igralske skupnosti za daljšo življensko dobo igre.\n",
    "\n",
    "Nemogoče pa je določiti najbolj popularno značko v vsakem letu ravno zaradi njihove enakomerne rasti. Hipoteza torej ne velja."
   ]
  },
  {
   "attachments": {},
   "cell_type": "markdown",
   "metadata": {},
   "source": [
    "#### Sprememba standardne cene izdelkov\n",
    "Glede na to da je med podatki mnogo iger, ki so zanemarljivo majhne/nepomembne, se najprej omejimo na igre z več kot 10.000 ocenami"
   ]
  },
  {
   "cell_type": "code",
   "execution_count": null,
   "metadata": {},
   "outputs": [],
   "source": [
    "igre_z_veliko_ocenami = igre[igre['reviews_num'] >= 10000]\n",
    "igre_z_veliko_ocenami"
   ]
  },
  {
   "attachments": {},
   "cell_type": "markdown",
   "metadata": {},
   "source": [
    "Opazovali bomo dve ločeni skupini iger iz tega seznama:\n",
    "- Prva bodo **brezplačne igre**. Tu nas zanima kako raste njihovo *število v razmerju s časom*. Sumimo, da jih je s časom vedno več, saj mnogi developerji posvojujejo live-service model služenja, kjer je igra brezplačna, omogoča pa druge načine zaslužka znotraj igre \n",
    "- Druga bodo igre, ki **niso brezplačne**. V tem primeru opazujemo njihovo *povprečno ceno skozi čas*."
   ]
  },
  {
   "cell_type": "code",
   "execution_count": null,
   "metadata": {},
   "outputs": [],
   "source": [
    "brezplacne = igre_z_veliko_ocenami[igre_z_veliko_ocenami['price'] == 0.0]\n",
    "nebrezplacne = igre_z_veliko_ocenami[igre_z_veliko_ocenami['price'] != 0.0]"
   ]
  },
  {
   "cell_type": "code",
   "execution_count": null,
   "metadata": {},
   "outputs": [],
   "source": [
    "brezplacne.groupby('year').size().plot()\n",
    "igre_z_veliko_ocenami.groupby('year').size().plot()"
   ]
  },
  {
   "attachments": {},
   "cell_type": "markdown",
   "metadata": {},
   "source": [
    "Hipoteza, da je vedno več popularnih brezplačnih iger iz zgornjega grafa ne more biti potrjena, saj je število takih iger v primerjavi s številom vseh popularnih iger precej povezano. Iz grafa se vidi, da je število brezplačnih najbolj naraslo takrat, ko je tudi splošno število iger naraslo, ter padlo takrat, ko je padlo tudi število vseh iger. Torej ni opaznega trenda naraščanja brezplačnih iger."
   ]
  },
  {
   "attachments": {},
   "cell_type": "markdown",
   "metadata": {},
   "source": [
    "Oglejmo si še drugo skupino iger, tj. ne-brezplačnih iger."
   ]
  },
  {
   "cell_type": "code",
   "execution_count": null,
   "metadata": {},
   "outputs": [],
   "source": [
    "nebrezplacne[['year', 'price']].groupby('year').mean().plot()"
   ]
  },
  {
   "attachments": {},
   "cell_type": "markdown",
   "metadata": {},
   "source": [
    "Opazimo, da je povprečna cena video iger od 2000 do sedanjosti narasla. Porast zadnjih nekaj let lahko pripišemo dvigu standarne cene izdelkov, medtem ko moramo za leta pred 2018 upoštevati, da se starejši izdelki prodajajo po nižji ceni, kot ko so bili prvotno postavljeni na trg.\n",
    "Iz zgornjih opažanj se je porodilo vprašanje koliko iger na Steam-u je dražjih od 10 evrov. Pogost fenomen je prodaja t.i. shovelware iger, ki so narejene v kratkem času in so nižje kvalitete, njihov cilj pa je le hiter zaslužek na podlagi plagiatorstva idej drugih developerjev, zato se običajno prodajajo po nižjih cenah. Ker lahko na Steam-u kdorkoli prodaja svoje izdelke, jim družbo delajo tudi drugi zločini proti bogu, ki se prodajajo za manj kot evro in so pogosto le eksperimenti samostojnih razvijalcev in niso zares namenjeni izpostavljenosti človeškim očem. Oglejmo si koliko je takih izdelkov. Zaradi tega, kako hitro se take igre pojavljajo in izginjajo, se omejimo le na zadnjih pet let."
   ]
  },
  {
   "cell_type": "code",
   "execution_count": null,
   "metadata": {},
   "outputs": [],
   "source": [
    "zadnjih_pet_let = igre[igre['year'] >= 2018]\n",
    "# V podatkih je natanko ena igra, ki izide leta 2024 in posledicno pokvari statistiko, zato jo odstranimo iz podatkov\n",
    "zadnjih_pet_let = zadnjih_pet_let[zadnjih_pet_let['year'] <= 2023] \n",
    "cheap = zadnjih_pet_let[zadnjih_pet_let['price'] <= 10.00]\n",
    "\n",
    "\n",
    "all_num = igre.groupby('year', as_index=False).size() # Število vseh iger po letih\n",
    "cheap_num = cheap.groupby('year', as_index=False).size() # Število poceni iger po letih\n",
    "skupaj = pd.merge(all_num, cheap_num, left_on='year', right_on='year')\n",
    "\n",
    "# Dodamo nov stolpec v tabelo, ki predstavlja delež poceni iger v tistem letu\n",
    "skupaj['percentage'] = skupaj.size_y / skupaj.size_x\n",
    "\n",
    "skupaj.plot.bar(x='year', y='percentage')"
   ]
  },
  {
   "attachments": {},
   "cell_type": "markdown",
   "metadata": {},
   "source": [
    "Poglejmo še igre, cenejše od enega evra:"
   ]
  },
  {
   "cell_type": "code",
   "execution_count": null,
   "metadata": {},
   "outputs": [],
   "source": [
    "extra_cheap = zadnjih_pet_let[zadnjih_pet_let['price'] <= 1.00]\n",
    "extra_cheap_num = extra_cheap.groupby('year', as_index=False).size()\n",
    "\n",
    "skupaj2 = pd.merge(all_num, extra_cheap_num, left_on='year', right_on='year')\n",
    "skupaj2['percentage'] = skupaj2.size_y / skupaj2.size_x\n",
    "\n",
    "skupaj2.plot.bar(x='year', y='percentage')"
   ]
  },
  {
   "attachments": {},
   "cell_type": "markdown",
   "metadata": {},
   "source": [
    "Iz zgornjih grafov res lahko zaključimo, da je večina iger na spletni trgovini cenejših od 10€, toda to porodi naslednji vprašanji: \n",
    "- Ali višja cena pomeni tudi več igralcev? \n",
    "- Ali višja cena pomeni tudi višjo kvaliteto? \n",
    "Število igralcev ni neposredno dostopno, toda lahko ga aproksimiramo s številom ocen, kvaliteto igre pa bomo označili z deležem pozitivnih ocen."
   ]
  },
  {
   "cell_type": "code",
   "execution_count": null,
   "metadata": {},
   "outputs": [],
   "source": [
    "igre.plot.scatter(x='price', y='reviews_num')"
   ]
  },
  {
   "attachments": {},
   "cell_type": "markdown",
   "metadata": {},
   "source": [
    "Kot zgornji graf pokaže, se najde nekaj iger ki stanejo več kot 100 evrov, zato jih bomo zanemarili zaradi njihovega majhnega števila"
   ]
  },
  {
   "cell_type": "code",
   "execution_count": null,
   "metadata": {},
   "outputs": [],
   "source": [
    "igre[igre['price'] <= 100][igre['reviews_num'] <= 3e6].plot.scatter(x='price', y='reviews_num')"
   ]
  },
  {
   "attachments": {},
   "cell_type": "markdown",
   "metadata": {},
   "source": [
    "Kot graf pokaže, cena ne vpliva na število igralcev. Poglejmo še kvaliteto v primerjavi s ceno igre."
   ]
  },
  {
   "cell_type": "code",
   "execution_count": null,
   "metadata": {},
   "outputs": [],
   "source": [
    "igre[igre['price'] <= 100].plot.scatter(x='price', y='reviews_perc')"
   ]
  },
  {
   "attachments": {},
   "cell_type": "markdown",
   "metadata": {},
   "source": [
    "Vidimo, da tudi med ceno in kvaliteto izdelka ni opaznega razmerja, saj se tako pri poceni igrah kot pri dražjih igrah pojavijo raznovrstne ocene. \n",
    "Za zaključek, s to raziskavo nismo pokazali ničesar pretresljivega ali kakorkoli uporabnega, saj je trg video iger preveč nezanesljiv in nov, da bi bil primeren za tovrstno analizo."
   ]
  }
 ],
 "metadata": {
  "kernelspec": {
   "display_name": "Python 3",
   "language": "python",
   "name": "python3"
  },
  "language_info": {
   "codemirror_mode": {
    "name": "ipython",
    "version": 3
   },
   "file_extension": ".py",
   "mimetype": "text/x-python",
   "name": "python",
   "nbconvert_exporter": "python",
   "pygments_lexer": "ipython3",
   "version": "3.10.2"
  },
  "orig_nbformat": 4,
  "vscode": {
   "interpreter": {
    "hash": "477c4666779a9f690e53515f811c8055961386f0b670c081c56de6c6eb957025"
   }
  }
 },
 "nbformat": 4,
 "nbformat_minor": 2
}
